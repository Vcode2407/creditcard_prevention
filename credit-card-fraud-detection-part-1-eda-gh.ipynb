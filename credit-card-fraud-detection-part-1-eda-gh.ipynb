{
 "cells": [
  {
   "cell_type": "markdown",
   "metadata": {
    "papermill": {
     "duration": 0.042907,
     "end_time": "2021-07-20T04:07:48.643235",
     "exception": false,
     "start_time": "2021-07-20T04:07:48.600328",
     "status": "completed"
    },
    "tags": []
   },
   "source": [
    "<h1><center> Credit Card Fraud Detection </center></h1>\n",
    "<h2><center> Part 1. Exploratory Data Analysis </center></h2>\n",
    "<h2><center> Vinay Kumar </center></h2>"
   ]
  },
  {
   "cell_type": "markdown",
   "metadata": {
    "papermill": {
     "duration": 0.041418,
     "end_time": "2021-07-20T04:07:48.726604",
     "exception": false,
     "start_time": "2021-07-20T04:07:48.685186",
     "status": "completed"
    },
    "tags": []
   },
   "source": [
    "# Contents\n",
    "\n",
    "- Introduction\n",
    "- Visuaizing individual features\n",
    "- Relationships among the features"
   ]
  },
  {
   "cell_type": "markdown",
   "metadata": {
    "papermill": {
     "duration": 0.042944,
     "end_time": "2021-07-20T04:07:48.813005",
     "exception": false,
     "start_time": "2021-07-20T04:07:48.770061",
     "status": "completed"
    },
    "tags": []
   },
   "source": [
    "# 1. Introduction"
   ]
  },
  {
   "cell_type": "code",
   "execution_count": null,
   "metadata": {
    "execution": {
     "iopub.execute_input": "2022-01-09T17:49:51.174733Z",
     "iopub.status.busy": "2022-01-09T17:49:51.174113Z",
     "iopub.status.idle": "2022-01-09T17:49:53.593498Z",
     "shell.execute_reply": "2022-01-09T17:49:53.592503Z",
     "shell.execute_reply.started": "2022-01-09T17:49:51.174647Z"
    },
    "papermill": {
     "duration": 2.593648,
     "end_time": "2021-07-20T04:07:51.448596",
     "exception": false,
     "start_time": "2021-07-20T04:07:48.854948",
     "status": "completed"
    },
    "tags": [],
    "trusted": true
   },
   "outputs": [],
   "source": [
    "# Importing necessary libraries\n",
    "\n",
    "import numpy as np\n",
    "import pandas as pd\n",
    "import matplotlib.pyplot as plt\n",
    "import seaborn as sns\n",
    "sns.set()\n",
    "import plotly.express as px"
   ]
  },
  {
   "cell_type": "markdown",
   "metadata": {
    "papermill": {
     "duration": 0.042302,
     "end_time": "2021-07-20T04:07:51.534431",
     "exception": false,
     "start_time": "2021-07-20T04:07:51.492129",
     "status": "completed"
    },
    "tags": []
   },
   "source": [
    "## Data"
   ]
  },
  {
   "cell_type": "markdown",
   "metadata": {
    "papermill": {
     "duration": 0.042719,
     "end_time": "2021-07-20T04:07:51.619174",
     "exception": false,
     "start_time": "2021-07-20T04:07:51.576455",
     "status": "completed"
    },
    "tags": []
   },
   "source": [
    "Source: https://www.kaggle.com/mlg-ulb/creditcardfraud\n",
    "\n",
    "The dataset contains information on the transactions made using credit cards by European cardholders, in two particular days of September $2013$. It presents a total of $284807$ transactions, of which $492$ were fraudulent. Clearly, the dataset is highly imbalanced, the positive class (fraudulent transactions) accounting for only $0.173\\%$ of all transactions.\n",
    "\n",
    "For a particular transaction, the feature **Time** represents the time (in seconds) elapsed between the transaction and the very first transaction, **Amount** represents the amount of the transaction and **Class** represents the status of the transaction with respect to authenticity. The class of an authentic (resp. fraudulent) transaction is taken to be $0$ (resp. $1$). Rest of the variables (**V1** to **V28**) are obtained from principle component analysis (PCA) transformation on original features that are not available due to confidentiality."
   ]
  },
  {
   "cell_type": "code",
   "execution_count": null,
   "metadata": {
    "execution": {
     "iopub.execute_input": "2022-01-09T17:51:37.554517Z",
     "iopub.status.busy": "2022-01-09T17:51:37.553994Z",
     "iopub.status.idle": "2022-01-09T17:51:41.750236Z",
     "shell.execute_reply": "2022-01-09T17:51:41.749168Z",
     "shell.execute_reply.started": "2022-01-09T17:51:37.554475Z"
    },
    "papermill": {
     "duration": 4.862141,
     "end_time": "2021-07-20T04:07:56.523437",
     "exception": false,
     "start_time": "2021-07-20T04:07:51.661296",
     "status": "completed"
    },
    "tags": [],
    "trusted": true
   },
   "outputs": [],
   "source": [
    "# The dataset\n",
    "\n",
    "data = pd.read_csv('../input/creditcardfraud/creditcard.csv')\n",
    "data"
   ]
  },
  {
   "cell_type": "code",
   "execution_count": null,
   "metadata": {
    "execution": {
     "iopub.execute_input": "2022-01-09T17:51:50.773314Z",
     "iopub.status.busy": "2022-01-09T17:51:50.772965Z",
     "iopub.status.idle": "2022-01-09T17:51:51.21998Z",
     "shell.execute_reply": "2022-01-09T17:51:51.218974Z",
     "shell.execute_reply.started": "2022-01-09T17:51:50.773282Z"
    },
    "papermill": {
     "duration": 0.522125,
     "end_time": "2021-07-20T04:07:57.089462",
     "exception": false,
     "start_time": "2021-07-20T04:07:56.567337",
     "status": "completed"
    },
    "tags": [],
    "trusted": true
   },
   "outputs": [],
   "source": [
    "# Statistical descriptions of the features\n",
    "\n",
    "features = data.drop(['Class'], axis = 1)\n",
    "features.describe()"
   ]
  },
  {
   "cell_type": "markdown",
   "metadata": {
    "papermill": {
     "duration": 0.047566,
     "end_time": "2021-07-20T04:07:57.18494",
     "exception": false,
     "start_time": "2021-07-20T04:07:57.137374",
     "status": "completed"
    },
    "tags": []
   },
   "source": [
    "## Objectives of the project\n",
    "\n",
    "### Primary objective:\n",
    "\n",
    "**Classification of transactions as authentic or fraudulent**. To be prcise, given the data on **Time**, **Amount** and transformed features **V1** to **V28** for a particular transaction, our goal is to correctly classify the transaction as **authentic** or **fraudulent**. We employ different techniques to build classification models and compare them by various evaluation metrics.\n",
    "\n",
    "### Secondary objectives:\n",
    "\n",
    "Answering the following questions using machine learning and statistical tools and techniques.\n",
    "\n",
    "- When a fraudulent transaction is made, is it followed soon by one or more such fraudulent transactions? In other words, do the attackers make consecutive fraudulent transactions in a short span of time?\n",
    "\n",
    "\n",
    "- Is the amount of a fraudulent transaction generally larger than that of an authentic transaction?\n",
    "\n",
    "\n",
    "- Is there any indication in the data that fraudulent transactions occur at high-transaction period?\n",
    "\n",
    "\n",
    "- It is seen from the data that the number of transactions are high in some time intervals and low in between. Does the occurance of fraudulent transactions related to these time intervals?\n",
    "\n",
    "\n",
    "- There are a few time-points which exhibits high number of fraud transactions. Is it due to high number of total transactions or due to some other reason?\n",
    "\n",
    "#### In this part we carry out exploratory data analysis for the features in the dataset."
   ]
  },
  {
   "cell_type": "markdown",
   "metadata": {
    "papermill": {
     "duration": 0.044487,
     "end_time": "2021-07-20T04:07:57.279938",
     "exception": false,
     "start_time": "2021-07-20T04:07:57.235451",
     "status": "completed"
    },
    "tags": []
   },
   "source": [
    "# 2. Visualizing individual features"
   ]
  },
  {
   "cell_type": "markdown",
   "metadata": {
    "papermill": {
     "duration": 0.043425,
     "end_time": "2021-07-20T04:07:57.36764",
     "exception": false,
     "start_time": "2021-07-20T04:07:57.324215",
     "status": "completed"
    },
    "tags": []
   },
   "source": [
    "## Class"
   ]
  },
  {
   "cell_type": "markdown",
   "metadata": {
    "papermill": {
     "duration": 0.043488,
     "end_time": "2021-07-20T04:07:57.455161",
     "exception": false,
     "start_time": "2021-07-20T04:07:57.411673",
     "status": "completed"
    },
    "tags": []
   },
   "source": [
    "First we analyze the feature which is the main object of the study: The class variable, which indicates if a particular transaction is authentic or fraudulent."
   ]
  },
  {
   "cell_type": "code",
   "execution_count": null,
   "metadata": {
    "execution": {
     "iopub.execute_input": "2022-01-09T17:56:46.72438Z",
     "iopub.status.busy": "2022-01-09T17:56:46.723978Z",
     "iopub.status.idle": "2022-01-09T17:56:47.945427Z",
     "shell.execute_reply": "2022-01-09T17:56:47.944418Z",
     "shell.execute_reply.started": "2022-01-09T17:56:46.724348Z"
    },
    "papermill": {
     "duration": 1.331896,
     "end_time": "2021-07-20T04:07:58.830961",
     "exception": false,
     "start_time": "2021-07-20T04:07:57.499065",
     "status": "completed"
    },
    "tags": [],
    "trusted": true
   },
   "outputs": [],
   "source": [
    "# Splitting of the data by authenticity of transactions\n",
    "\n",
    "data_authentic = data[data['Class'] == 0] # authentic transactions only\n",
    "data_fraud = data[data['Class'] == 1] # fraud transactions only\n",
    "\n",
    "# Class frequencies\n",
    "\n",
    "class_label = ['Authentic', 'Fraud']\n",
    "class_frequency = [len(data_authentic), len(data_fraud)]\n",
    "\n",
    "fig1 = px.pie(values = class_frequency,\n",
    "             names = class_label,\n",
    "             title = 'Frequency comparison of authentic and fraudulent transactions',\n",
    "             template = 'ggplot2'\n",
    "            )\n",
    "fig1.show()"
   ]
  },
  {
   "cell_type": "markdown",
   "metadata": {
    "papermill": {
     "duration": 0.045982,
     "end_time": "2021-07-20T04:07:58.92295",
     "exception": false,
     "start_time": "2021-07-20T04:07:58.876968",
     "status": "completed"
    },
    "tags": []
   },
   "source": [
    "It is evident that the data is extremely imbalanced with authentic transactions being the majority class and fraudulent transactions being the minority class. Next we analyze the frequency of transactions made over time elapsed starting from the first transaction."
   ]
  },
  {
   "cell_type": "markdown",
   "metadata": {
    "papermill": {
     "duration": 0.045556,
     "end_time": "2021-07-20T04:07:59.013389",
     "exception": false,
     "start_time": "2021-07-20T04:07:58.967833",
     "status": "completed"
    },
    "tags": []
   },
   "source": [
    "## Time"
   ]
  },
  {
   "cell_type": "code",
   "execution_count": null,
   "metadata": {
    "execution": {
     "iopub.execute_input": "2022-01-09T17:56:56.224071Z",
     "iopub.status.busy": "2022-01-09T17:56:56.22372Z",
     "iopub.status.idle": "2022-01-09T17:56:57.530094Z",
     "shell.execute_reply": "2022-01-09T17:56:57.529143Z",
     "shell.execute_reply.started": "2022-01-09T17:56:56.224041Z"
    },
    "papermill": {
     "duration": 1.88101,
     "end_time": "2021-07-20T04:08:00.940767",
     "exception": false,
     "start_time": "2021-07-20T04:07:59.059757",
     "status": "completed"
    },
    "tags": [],
    "trusted": true
   },
   "outputs": [],
   "source": [
    "# Transaction frequency over time\n",
    "\n",
    "fig1 = px.histogram(data,\n",
    "                   x = 'Time',\n",
    "                   nbins = 200,\n",
    "                   title = 'Distribution of transactions over time',\n",
    "                   template = 'ggplot2'\n",
    "                  )\n",
    "fig1.show()"
   ]
  },
  {
   "cell_type": "markdown",
   "metadata": {
    "papermill": {
     "duration": 0.102673,
     "end_time": "2021-07-20T04:08:01.148712",
     "exception": false,
     "start_time": "2021-07-20T04:08:01.046039",
     "status": "completed"
    },
    "tags": []
   },
   "source": [
    "**Observation:** The number of transactions are particularly high in certain time intervals and low in between."
   ]
  },
  {
   "cell_type": "code",
   "execution_count": null,
   "metadata": {
    "execution": {
     "iopub.execute_input": "2021-07-20T13:53:03.627471Z",
     "iopub.status.busy": "2021-07-20T13:53:03.627091Z",
     "iopub.status.idle": "2021-07-20T13:53:03.686726Z",
     "shell.execute_reply": "2021-07-20T13:53:03.685536Z",
     "shell.execute_reply.started": "2021-07-20T13:53:03.627433Z"
    },
    "papermill": {
     "duration": 0.176532,
     "end_time": "2021-07-20T04:08:01.429676",
     "exception": false,
     "start_time": "2021-07-20T04:08:01.253144",
     "status": "completed"
    },
    "tags": [],
    "trusted": true
   },
   "outputs": [],
   "source": [
    "# Histogram for fraudulent transactions\n",
    "\n",
    "fig1 = px.histogram(data_fraud,\n",
    "                   x = 'Time',\n",
    "                   nbins = 200,\n",
    "                   title = 'Distribution of fraudulent transactions over time',\n",
    "                   template = 'ggplot2'\n",
    "                  )\n",
    "fig1.show()"
   ]
  },
  {
   "cell_type": "markdown",
   "metadata": {
    "papermill": {
     "duration": 0.099358,
     "end_time": "2021-07-20T04:08:01.632534",
     "exception": false,
     "start_time": "2021-07-20T04:08:01.533176",
     "status": "completed"
    },
    "tags": []
   },
   "source": [
    "**Observation:** There are certain spikes in the data that indicates high number of fraud transactions at certain time points."
   ]
  },
  {
   "cell_type": "markdown",
   "metadata": {
    "papermill": {
     "duration": 0.105853,
     "end_time": "2021-07-20T04:08:01.842642",
     "exception": false,
     "start_time": "2021-07-20T04:08:01.736789",
     "status": "completed"
    },
    "tags": []
   },
   "source": [
    "Next we visualize the distribution of transaction amount. It is seen from the data that this feature is positively skewed to a great extent. Hence we use log-scale in the y-axis to produce a nondegenerate visualization of the same."
   ]
  },
  {
   "cell_type": "markdown",
   "metadata": {
    "papermill": {
     "duration": 0.108653,
     "end_time": "2021-07-20T04:08:02.058311",
     "exception": false,
     "start_time": "2021-07-20T04:08:01.949658",
     "status": "completed"
    },
    "tags": []
   },
   "source": [
    "## Amount"
   ]
  },
  {
   "cell_type": "code",
   "execution_count": null,
   "metadata": {
    "execution": {
     "iopub.execute_input": "2022-01-09T17:58:01.414203Z",
     "iopub.status.busy": "2022-01-09T17:58:01.413724Z",
     "iopub.status.idle": "2022-01-09T17:58:03.801874Z",
     "shell.execute_reply": "2022-01-09T17:58:03.801222Z",
     "shell.execute_reply.started": "2022-01-09T17:58:01.414161Z"
    },
    "papermill": {
     "duration": 3.509316,
     "end_time": "2021-07-20T04:08:05.673832",
     "exception": false,
     "start_time": "2021-07-20T04:08:02.164516",
     "status": "completed"
    },
    "tags": [],
    "trusted": true
   },
   "outputs": [],
   "source": [
    "# Transaction amount\n",
    "\n",
    "fig1 = px.histogram(data,\n",
    "                   x = 'Amount',\n",
    "                   nbins = 200,\n",
    "                   title = 'Distribution of transaction amount',\n",
    "                   #log_y = True,\n",
    "                   template = 'ggplot2'\n",
    "                  )\n",
    "fig1.show()\n",
    "\n",
    "fig2 = px.histogram(data,\n",
    "                   x = 'Amount',\n",
    "                   nbins = 200,\n",
    "                   title = 'Distribution of transaction amount on logarithmic scale',\n",
    "                   log_y = True,\n",
    "                   template = 'ggplot2'\n",
    "                  )\n",
    "fig2.show()"
   ]
  },
  {
   "cell_type": "markdown",
   "metadata": {
    "papermill": {
     "duration": 0.174744,
     "end_time": "2021-07-20T04:08:06.022098",
     "exception": false,
     "start_time": "2021-07-20T04:08:05.847354",
     "status": "completed"
    },
    "tags": []
   },
   "source": [
    "The high positive skewness even after taking the log-scale motivates us to map the amount data using log transformation."
   ]
  },
  {
   "cell_type": "code",
   "execution_count": null,
   "metadata": {
    "execution": {
     "iopub.execute_input": "2022-01-09T17:59:37.314324Z",
     "iopub.status.busy": "2022-01-09T17:59:37.313802Z",
     "iopub.status.idle": "2022-01-09T17:59:38.936014Z",
     "shell.execute_reply": "2022-01-09T17:59:38.935011Z",
     "shell.execute_reply.started": "2022-01-09T17:59:37.314275Z"
    },
    "papermill": {
     "duration": 2.493482,
     "end_time": "2021-07-20T04:08:08.69092",
     "exception": false,
     "start_time": "2021-07-20T04:08:06.197438",
     "status": "completed"
    },
    "tags": [],
    "trusted": true
   },
   "outputs": [],
   "source": [
    "# Transaction amount after log transformation\n",
    "\n",
    "np.seterr(divide = 'ignore')\n",
    "#np.seterr(divide = 'warn')\n",
    "\n",
    "df = pd.DataFrame(columns = ['Class','log_amount'])\n",
    "df['Class'] = data['Class']\n",
    "df['log_amount'] = np.log2(data['Amount'])\n",
    "\n",
    "fig1 = px.histogram(df,\n",
    "                   x = 'log_amount',\n",
    "                   nbins = 200,\n",
    "                   title = 'Distribution of transaction amount after log transformation',\n",
    "                   #log_y = True,\n",
    "                   template = 'ggplot2'\n",
    "                  )\n",
    "fig1.show()"
   ]
  },
  {
   "cell_type": "markdown",
   "metadata": {
    "papermill": {
     "duration": 0.278226,
     "end_time": "2021-07-20T04:08:09.257914",
     "exception": false,
     "start_time": "2021-07-20T04:08:08.979688",
     "status": "completed"
    },
    "tags": []
   },
   "source": [
    "Since this gives a more symmetric output, we are motivated to work with this transformed amount data, from which the original amount data can easily be converted back to."
   ]
  },
  {
   "cell_type": "code",
   "execution_count": null,
   "metadata": {
    "execution": {
     "iopub.execute_input": "2022-01-09T17:59:49.963843Z",
     "iopub.status.busy": "2022-01-09T17:59:49.963517Z",
     "iopub.status.idle": "2022-01-09T17:59:52.077165Z",
     "shell.execute_reply": "2022-01-09T17:59:52.076219Z",
     "shell.execute_reply.started": "2022-01-09T17:59:49.963814Z"
    },
    "papermill": {
     "duration": 3.365068,
     "end_time": "2021-07-20T04:08:12.89356",
     "exception": false,
     "start_time": "2021-07-20T04:08:09.528492",
     "status": "completed"
    },
    "tags": [],
    "trusted": true
   },
   "outputs": [],
   "source": [
    "# Visualizations of authentic and fraudulent transactions after log transformation\n",
    "\n",
    "class_list = list(data['Class'])\n",
    "fraud_status = []\n",
    "for i in range(len(class_list)):\n",
    "    fraud_status.append(bool(class_list[i]))\n",
    "\n",
    "fig1 = px.violin(df,\n",
    "             x = 'Class',\n",
    "             y = 'log_amount',\n",
    "             color = fraud_status,\n",
    "             title = 'Distribution of Amount for Authentic and Fraudulent transactions after log transformation',\n",
    "             template = 'ggplot2'\n",
    "            )\n",
    "fig1.show()"
   ]
  },
  {
   "cell_type": "markdown",
   "metadata": {
    "papermill": {
     "duration": 0.394261,
     "end_time": "2021-07-20T04:08:13.694259",
     "exception": false,
     "start_time": "2021-07-20T04:08:13.299998",
     "status": "completed"
    },
    "tags": []
   },
   "source": [
    "It is clear from the plots that most of the large-amount transactions are authentic, which maybe caused by the extra security measures given to high-amount transactions in form of multiple passwords and OTPs."
   ]
  },
  {
   "cell_type": "markdown",
   "metadata": {
    "papermill": {
     "duration": 0.402786,
     "end_time": "2021-07-20T04:08:14.506499",
     "exception": false,
     "start_time": "2021-07-20T04:08:14.103713",
     "status": "completed"
    },
    "tags": []
   },
   "source": [
    "## V1-V28"
   ]
  },
  {
   "cell_type": "code",
   "execution_count": null,
   "metadata": {
    "execution": {
     "iopub.execute_input": "2021-07-20T13:53:09.799554Z",
     "iopub.status.busy": "2021-07-20T13:53:09.799223Z",
     "iopub.status.idle": "2021-07-20T13:53:09.80649Z",
     "shell.execute_reply": "2021-07-20T13:53:09.805445Z",
     "shell.execute_reply.started": "2021-07-20T13:53:09.799518Z"
    },
    "papermill": {
     "duration": 0.416147,
     "end_time": "2021-07-20T04:08:15.326509",
     "exception": false,
     "start_time": "2021-07-20T04:08:14.910362",
     "status": "completed"
    },
    "tags": [],
    "trusted": true
   },
   "outputs": [],
   "source": [
    "# Function to print histogram of a chosen feature\n",
    "\n",
    "def hist(data, feature):\n",
    "    fig1 = px.histogram(data,\n",
    "                   x = feature,\n",
    "                   nbins = 200,\n",
    "                   title = 'Distribution of {}'.format(feature),\n",
    "                   template = 'ggplot2'\n",
    "                  )\n",
    "    fig1.show()\n",
    "    \n",
    "# Function to print boxplot and violinplot of a chosen feature\n",
    "\n",
    "def box_violin(data, feature):\n",
    "    fig, (ax1, ax2) = plt.subplots(1,2, figsize=(16.1, 6))\n",
    "    sns.boxplot(x = data[feature], ax = ax1)\n",
    "    sns.violinplot(x = data[feature], ax = ax2)\n",
    "    plt.show()\n",
    "    \n",
    "# Function to combine the above two functions\n",
    "\n",
    "def eda(data, feature):\n",
    "    hist(data, feature)\n",
    "    box_violin(data, feature)"
   ]
  },
  {
   "cell_type": "code",
   "execution_count": null,
   "metadata": {
    "execution": {
     "iopub.execute_input": "2021-07-20T13:53:09.808063Z",
     "iopub.status.busy": "2021-07-20T13:53:09.807766Z",
     "iopub.status.idle": "2021-07-20T13:53:09.819106Z",
     "shell.execute_reply": "2021-07-20T13:53:09.818374Z",
     "shell.execute_reply.started": "2021-07-20T13:53:09.808034Z"
    },
    "papermill": {
     "duration": 0.414523,
     "end_time": "2021-07-20T04:08:16.142761",
     "exception": false,
     "start_time": "2021-07-20T04:08:15.728238",
     "status": "completed"
    },
    "tags": [],
    "trusted": true
   },
   "outputs": [],
   "source": [
    "# List of features obtained by PCA transformation\n",
    "\n",
    "features_pca = list(data.columns)\n",
    "features_pca.remove('Time')\n",
    "features_pca.remove('Amount')\n",
    "features_pca.remove('Class')"
   ]
  },
  {
   "cell_type": "code",
   "execution_count": null,
   "metadata": {
    "execution": {
     "iopub.execute_input": "2021-07-20T13:53:09.820774Z",
     "iopub.status.busy": "2021-07-20T13:53:09.820351Z",
     "iopub.status.idle": "2021-07-20T13:54:14.640235Z",
     "shell.execute_reply": "2021-07-20T13:54:14.639354Z",
     "shell.execute_reply.started": "2021-07-20T13:53:09.820729Z"
    },
    "papermill": {
     "duration": 82.075953,
     "end_time": "2021-07-20T04:09:38.621971",
     "exception": false,
     "start_time": "2021-07-20T04:08:16.546018",
     "status": "completed"
    },
    "tags": [],
    "trusted": true
   },
   "outputs": [],
   "source": [
    "# Visualizations and statistical descriptions of the features obtained by PCA transformation\n",
    "\n",
    "for feature in features_pca:\n",
    "    eda(data, feature)"
   ]
  },
  {
   "cell_type": "markdown",
   "metadata": {
    "papermill": {
     "duration": 3.799256,
     "end_time": "2021-07-20T04:09:46.254167",
     "exception": false,
     "start_time": "2021-07-20T04:09:42.454911",
     "status": "completed"
    },
    "tags": []
   },
   "source": [
    "# 3. Relationships among the features"
   ]
  },
  {
   "cell_type": "markdown",
   "metadata": {
    "papermill": {
     "duration": 3.808468,
     "end_time": "2021-07-20T04:09:53.853845",
     "exception": false,
     "start_time": "2021-07-20T04:09:50.045377",
     "status": "completed"
    },
    "tags": []
   },
   "source": [
    "First we analyze how the amount of transaction behaves with respect to time."
   ]
  },
  {
   "cell_type": "markdown",
   "metadata": {
    "papermill": {
     "duration": 3.800343,
     "end_time": "2021-07-20T04:10:01.436901",
     "exception": false,
     "start_time": "2021-07-20T04:09:57.636558",
     "status": "completed"
    },
    "tags": []
   },
   "source": [
    "## Amount vs Time"
   ]
  },
  {
   "cell_type": "code",
   "execution_count": null,
   "metadata": {
    "execution": {
     "iopub.execute_input": "2022-01-09T18:00:15.167597Z",
     "iopub.status.busy": "2022-01-09T18:00:15.166946Z",
     "iopub.status.idle": "2022-01-09T18:00:17.073966Z",
     "shell.execute_reply": "2022-01-09T18:00:17.072796Z",
     "shell.execute_reply.started": "2022-01-09T18:00:15.167542Z"
    },
    "papermill": {
     "duration": 6.489757,
     "end_time": "2021-07-20T04:10:11.721963",
     "exception": false,
     "start_time": "2021-07-20T04:10:05.232206",
     "status": "completed"
    },
    "tags": [],
    "trusted": true
   },
   "outputs": [],
   "source": [
    "fig1 = px.scatter(data,\n",
    "                 x = 'Time',\n",
    "                 y = 'Amount',\n",
    "                 color = fraud_status,\n",
    "                 #marginal_x = 'rug',\n",
    "                 #marginal_y = 'rug',\n",
    "                 #size = class_rescaled,\n",
    "                 title = 'Amount vs Time',\n",
    "                 template = 'ggplot2'\n",
    "                )\n",
    "fig1.show()"
   ]
  },
  {
   "cell_type": "markdown",
   "metadata": {
    "papermill": {
     "duration": 3.892014,
     "end_time": "2021-07-20T04:10:19.518365",
     "exception": false,
     "start_time": "2021-07-20T04:10:15.626351",
     "status": "completed"
    },
    "tags": []
   },
   "source": [
    "We split up the scatterplot into two different subplots, one for authentic transactions and the other for fraudulent tranactions."
   ]
  },
  {
   "cell_type": "code",
   "execution_count": null,
   "metadata": {
    "execution": {
     "iopub.execute_input": "2022-01-09T18:01:30.084477Z",
     "iopub.status.busy": "2022-01-09T18:01:30.08389Z",
     "iopub.status.idle": "2022-01-09T18:01:32.073907Z",
     "shell.execute_reply": "2022-01-09T18:01:32.072811Z",
     "shell.execute_reply.started": "2022-01-09T18:01:30.08443Z"
    },
    "papermill": {
     "duration": 6.993305,
     "end_time": "2021-07-20T04:10:30.440544",
     "exception": false,
     "start_time": "2021-07-20T04:10:23.447239",
     "status": "completed"
    },
    "tags": [],
    "trusted": true
   },
   "outputs": [],
   "source": [
    "fig1 = px.scatter(data,\n",
    "                 x = 'Time',\n",
    "                 y = 'Amount', \n",
    "                 facet_col = fraud_status,\n",
    "                 color = fraud_status,\n",
    "                 title = 'Amount vs Time',\n",
    "                 template = 'ggplot2'\n",
    "                )\n",
    "fig1.show()"
   ]
  },
  {
   "cell_type": "markdown",
   "metadata": {
    "papermill": {
     "duration": 4.003779,
     "end_time": "2021-07-20T04:10:38.447949",
     "exception": false,
     "start_time": "2021-07-20T04:10:34.44417",
     "status": "completed"
    },
    "tags": []
   },
   "source": [
    "Note that *facet_col=False* corresponds to the authentic transactions and *facet_col=True* corresponds to the fraudulent transactions. We zoom into the second subplot a bit to get a clearer picture."
   ]
  },
  {
   "cell_type": "code",
   "execution_count": null,
   "metadata": {
    "execution": {
     "iopub.execute_input": "2022-01-09T18:01:49.588863Z",
     "iopub.status.busy": "2022-01-09T18:01:49.588537Z",
     "iopub.status.idle": "2022-01-09T18:01:49.654735Z",
     "shell.execute_reply": "2022-01-09T18:01:49.653802Z",
     "shell.execute_reply.started": "2022-01-09T18:01:49.588835Z"
    },
    "papermill": {
     "duration": 4.11263,
     "end_time": "2021-07-20T04:10:46.505192",
     "exception": false,
     "start_time": "2021-07-20T04:10:42.392562",
     "status": "completed"
    },
    "tags": [],
    "trusted": true
   },
   "outputs": [],
   "source": [
    "# Amount vs Time for fraudulent transactions - scatterplot\n",
    "\n",
    "fig1 = px.scatter(data_fraud,\n",
    "                 x = 'Time',\n",
    "                 y = 'Amount',\n",
    "                 title = 'Amount vs Time for fraudulent transactions',\n",
    "                 template = 'ggplot2'\n",
    "                )\n",
    "fig1.show()"
   ]
  },
  {
   "cell_type": "code",
   "execution_count": null,
   "metadata": {
    "execution": {
     "iopub.execute_input": "2022-01-09T18:01:50.673201Z",
     "iopub.status.busy": "2022-01-09T18:01:50.67284Z",
     "iopub.status.idle": "2022-01-09T18:01:50.695986Z",
     "shell.execute_reply": "2022-01-09T18:01:50.695122Z",
     "shell.execute_reply.started": "2022-01-09T18:01:50.673155Z"
    },
    "papermill": {
     "duration": 4.020465,
     "end_time": "2021-07-20T04:10:54.579148",
     "exception": false,
     "start_time": "2021-07-20T04:10:50.558683",
     "status": "completed"
    },
    "tags": [],
    "trusted": true
   },
   "outputs": [],
   "source": [
    "print('Correlation coefficient between Time and Amount')\n",
    "print('\\n')\n",
    "print('For all transactions: {}'.format(data['Time'].corr(data['Amount'])))\n",
    "print('For authentic transactions: {}'.format(data_authentic['Time'].corr(data_authentic['Amount'])))\n",
    "print('For fraudulent transactions: {}'.format(data_fraud['Time'].corr(data_fraud['Amount'])))"
   ]
  },
  {
   "cell_type": "markdown",
   "metadata": {
    "papermill": {
     "duration": 3.94734,
     "end_time": "2021-07-20T04:11:02.4986",
     "exception": false,
     "start_time": "2021-07-20T04:10:58.55126",
     "status": "completed"
    },
    "tags": []
   },
   "source": [
    "**Observation:** Time and Amount appear to be approximately uncorrelated, which is echoed even when authentic and fraudulent transactions are considered separately."
   ]
  },
  {
   "cell_type": "markdown",
   "metadata": {
    "papermill": {
     "duration": 3.981791,
     "end_time": "2021-07-20T04:11:10.426986",
     "exception": false,
     "start_time": "2021-07-20T04:11:06.445195",
     "status": "completed"
    },
    "tags": []
   },
   "source": [
    "Next we examine bivariate scatterplots and linear relationships between certain pairs of feature variables, which exhibit contrasting correlation structures for authentic and fraudulent transactions. Such a phenomenon occurs for a number of pairs, but we analyze $5$ specific pairs among these for the sake of brevity."
   ]
  },
  {
   "cell_type": "markdown",
   "metadata": {
    "papermill": {
     "duration": 3.995953,
     "end_time": "2021-07-20T04:11:18.424227",
     "exception": false,
     "start_time": "2021-07-20T04:11:14.428274",
     "status": "completed"
    },
    "tags": []
   },
   "source": [
    "## V3 vs Time"
   ]
  },
  {
   "cell_type": "code",
   "execution_count": null,
   "metadata": {
    "execution": {
     "iopub.execute_input": "2021-07-20T13:54:18.184608Z",
     "iopub.status.busy": "2021-07-20T13:54:18.184229Z",
     "iopub.status.idle": "2021-07-20T13:54:20.332153Z",
     "shell.execute_reply": "2021-07-20T13:54:20.331427Z",
     "shell.execute_reply.started": "2021-07-20T13:54:18.184579Z"
    },
    "papermill": {
     "duration": 7.612027,
     "end_time": "2021-07-20T04:11:30.038547",
     "exception": false,
     "start_time": "2021-07-20T04:11:22.42652",
     "status": "completed"
    },
    "tags": [],
    "trusted": true
   },
   "outputs": [],
   "source": [
    "fig1 = px.scatter(data,\n",
    "                 x = 'Time',\n",
    "                 y = 'V3', \n",
    "                 facet_col = fraud_status,\n",
    "                 color = fraud_status,\n",
    "                 title = 'V3 vs Time',\n",
    "                 template = 'ggplot2'\n",
    "                )\n",
    "fig1.show()"
   ]
  },
  {
   "cell_type": "code",
   "execution_count": null,
   "metadata": {
    "execution": {
     "iopub.execute_input": "2021-07-20T13:54:20.333507Z",
     "iopub.status.busy": "2021-07-20T13:54:20.333138Z",
     "iopub.status.idle": "2021-07-20T13:54:20.350347Z",
     "shell.execute_reply": "2021-07-20T13:54:20.349233Z",
     "shell.execute_reply.started": "2021-07-20T13:54:20.333477Z"
    },
    "papermill": {
     "duration": 4.867564,
     "end_time": "2021-07-20T04:11:40.851938",
     "exception": false,
     "start_time": "2021-07-20T04:11:35.984374",
     "status": "completed"
    },
    "tags": [],
    "trusted": true
   },
   "outputs": [],
   "source": [
    "print('Correlation coefficient between V3 and Time')\n",
    "print('\\n')\n",
    "print('For all transactions: {}'.format(data['V3'].corr(data['Time'])))\n",
    "print('For authentic transactions: {}'.format(data_authentic['V3'].corr(data_authentic['Time'])))\n",
    "print('For fraudulent transactions: {}'.format(data_fraud['V3'].corr(data_fraud['Time'])))"
   ]
  },
  {
   "cell_type": "markdown",
   "metadata": {
    "papermill": {
     "duration": 4.305939,
     "end_time": "2021-07-20T04:11:49.480485",
     "exception": false,
     "start_time": "2021-07-20T04:11:45.174546",
     "status": "completed"
    },
    "tags": []
   },
   "source": [
    "#### Observations:\n",
    "\n",
    "- V3 and Time have moderate negative correlation for authentic transactions.\n",
    "- However, they have slightly positive correlation for fraudulent transactions."
   ]
  },
  {
   "cell_type": "markdown",
   "metadata": {
    "papermill": {
     "duration": 4.227709,
     "end_time": "2021-07-20T04:11:57.911418",
     "exception": false,
     "start_time": "2021-07-20T04:11:53.683709",
     "status": "completed"
    },
    "tags": []
   },
   "source": [
    "## Amount vs V20"
   ]
  },
  {
   "cell_type": "code",
   "execution_count": null,
   "metadata": {
    "execution": {
     "iopub.execute_input": "2021-07-20T13:54:20.35187Z",
     "iopub.status.busy": "2021-07-20T13:54:20.351599Z",
     "iopub.status.idle": "2021-07-20T13:54:22.518005Z",
     "shell.execute_reply": "2021-07-20T13:54:22.51611Z",
     "shell.execute_reply.started": "2021-07-20T13:54:20.351843Z"
    },
    "papermill": {
     "duration": 7.838425,
     "end_time": "2021-07-20T04:12:10.010099",
     "exception": false,
     "start_time": "2021-07-20T04:12:02.171674",
     "status": "completed"
    },
    "tags": [],
    "trusted": true
   },
   "outputs": [],
   "source": [
    "fig1 = px.scatter(data,\n",
    "                 x = 'V20',\n",
    "                 y = 'Amount', \n",
    "                 facet_col = fraud_status,\n",
    "                 color = fraud_status,\n",
    "                 title = 'Amount vs V20',\n",
    "                 template = 'ggplot2'\n",
    "                )\n",
    "fig1.show()"
   ]
  },
  {
   "cell_type": "code",
   "execution_count": null,
   "metadata": {
    "execution": {
     "iopub.execute_input": "2021-07-20T13:54:22.520774Z",
     "iopub.status.busy": "2021-07-20T13:54:22.519998Z",
     "iopub.status.idle": "2021-07-20T13:54:22.537623Z",
     "shell.execute_reply": "2021-07-20T13:54:22.536564Z",
     "shell.execute_reply.started": "2021-07-20T13:54:22.520719Z"
    },
    "papermill": {
     "duration": 4.549338,
     "end_time": "2021-07-20T04:12:18.93203",
     "exception": false,
     "start_time": "2021-07-20T04:12:14.382692",
     "status": "completed"
    },
    "tags": [],
    "trusted": true
   },
   "outputs": [],
   "source": [
    "print('Correlation coefficient between Amount and V20')\n",
    "print('\\n')\n",
    "print('For all transactions: {}'.format(data['Amount'].corr(data['V20'])))\n",
    "print('For authentic transactions: {}'.format(data_authentic['Amount'].corr(data_authentic['V20'])))\n",
    "print('For fraudulent transactions: {}'.format(data_fraud['Amount'].corr(data_fraud['V20'])))"
   ]
  },
  {
   "cell_type": "markdown",
   "metadata": {
    "papermill": {
     "duration": 4.396403,
     "end_time": "2021-07-20T04:12:27.70956",
     "exception": false,
     "start_time": "2021-07-20T04:12:23.313157",
     "status": "completed"
    },
    "tags": []
   },
   "source": [
    "#### Observations:\n",
    "\n",
    "- Amount and V20 have moderate positive correlation for authentic transactions.\n",
    "- However, they are approximately uncorrelated for fraudulent transactions."
   ]
  },
  {
   "cell_type": "markdown",
   "metadata": {
    "papermill": {
     "duration": 4.379723,
     "end_time": "2021-07-20T04:12:36.458915",
     "exception": false,
     "start_time": "2021-07-20T04:12:32.079192",
     "status": "completed"
    },
    "tags": []
   },
   "source": [
    "## V2 vs V1"
   ]
  },
  {
   "cell_type": "code",
   "execution_count": null,
   "metadata": {
    "execution": {
     "iopub.execute_input": "2021-07-20T13:54:22.5395Z",
     "iopub.status.busy": "2021-07-20T13:54:22.539183Z",
     "iopub.status.idle": "2021-07-20T13:54:24.881811Z",
     "shell.execute_reply": "2021-07-20T13:54:24.878599Z",
     "shell.execute_reply.started": "2021-07-20T13:54:22.539469Z"
    },
    "papermill": {
     "duration": 8.114702,
     "end_time": "2021-07-20T04:12:48.922484",
     "exception": false,
     "start_time": "2021-07-20T04:12:40.807782",
     "status": "completed"
    },
    "tags": [],
    "trusted": true
   },
   "outputs": [],
   "source": [
    "fig1 = px.scatter(data,\n",
    "                 x = 'V1',\n",
    "                 y = 'V2', \n",
    "                 facet_col = fraud_status,\n",
    "                 color = fraud_status,\n",
    "                 title = 'V2 vs V1',\n",
    "                 template = 'ggplot2'\n",
    "                )\n",
    "fig1.show()"
   ]
  },
  {
   "cell_type": "code",
   "execution_count": null,
   "metadata": {
    "execution": {
     "iopub.execute_input": "2021-07-20T13:54:24.883915Z",
     "iopub.status.busy": "2021-07-20T13:54:24.883444Z",
     "iopub.status.idle": "2021-07-20T13:54:24.904133Z",
     "shell.execute_reply": "2021-07-20T13:54:24.90312Z",
     "shell.execute_reply.started": "2021-07-20T13:54:24.883859Z"
    },
    "papermill": {
     "duration": 5.284375,
     "end_time": "2021-07-20T04:12:58.89564",
     "exception": false,
     "start_time": "2021-07-20T04:12:53.611265",
     "status": "completed"
    },
    "tags": [],
    "trusted": true
   },
   "outputs": [],
   "source": [
    "print('Correlation coefficient between V1 and V2')\n",
    "print('\\n')\n",
    "print('For all transactions: {}'.format(data['V1'].corr(data['V2'])))\n",
    "print('For authentic transactions: {}'.format(data_authentic['V1'].corr(data_authentic['V2'])))\n",
    "print('For fraudulent transactions: {}'.format(data_fraud['V1'].corr(data_fraud['V2'])))"
   ]
  },
  {
   "cell_type": "markdown",
   "metadata": {
    "papermill": {
     "duration": 4.561557,
     "end_time": "2021-07-20T04:13:08.226192",
     "exception": false,
     "start_time": "2021-07-20T04:13:03.664635",
     "status": "completed"
    },
    "tags": []
   },
   "source": [
    "#### Observations:\n",
    "\n",
    "- V1 and V2 are approximately uncorrelated for authentic transactions.\n",
    "- However, they have significant negative correlation for fraudulent transactions."
   ]
  },
  {
   "cell_type": "markdown",
   "metadata": {
    "papermill": {
     "duration": 4.553686,
     "end_time": "2021-07-20T04:13:17.384227",
     "exception": false,
     "start_time": "2021-07-20T04:13:12.830541",
     "status": "completed"
    },
    "tags": []
   },
   "source": [
    "## V3 vs V2"
   ]
  },
  {
   "cell_type": "code",
   "execution_count": null,
   "metadata": {
    "execution": {
     "iopub.execute_input": "2021-07-20T13:54:24.90841Z",
     "iopub.status.busy": "2021-07-20T13:54:24.907704Z"
    },
    "papermill": {
     "duration": 8.24448,
     "end_time": "2021-07-20T04:13:30.168774",
     "exception": false,
     "start_time": "2021-07-20T04:13:21.924294",
     "status": "completed"
    },
    "tags": [],
    "trusted": true
   },
   "outputs": [],
   "source": [
    "fig1 = px.scatter(data,\n",
    "                 x = 'V2',\n",
    "                 y = 'V3', \n",
    "                 facet_col = fraud_status,\n",
    "                 color = fraud_status,\n",
    "                 title = 'V3 vs V2',\n",
    "                 template = 'ggplot2'\n",
    "                )\n",
    "fig1.show()"
   ]
  },
  {
   "cell_type": "code",
   "execution_count": null,
   "metadata": {
    "papermill": {
     "duration": 5.337531,
     "end_time": "2021-07-20T04:13:40.312774",
     "exception": false,
     "start_time": "2021-07-20T04:13:34.975243",
     "status": "completed"
    },
    "tags": [],
    "trusted": true
   },
   "outputs": [],
   "source": [
    "print('Correlation coefficient between V2 and V3')\n",
    "print('\\n')\n",
    "print('For all transactions: {}'.format(data['V2'].corr(data['V3'])))\n",
    "print('For authentic transactions: {}'.format(data_authentic['V2'].corr(data_authentic['V3'])))\n",
    "print('For fraudulent transactions: {}'.format(data_fraud['V2'].corr(data_fraud['V3'])))"
   ]
  },
  {
   "cell_type": "markdown",
   "metadata": {
    "papermill": {
     "duration": 4.811418,
     "end_time": "2021-07-20T04:13:49.912482",
     "exception": false,
     "start_time": "2021-07-20T04:13:45.101064",
     "status": "completed"
    },
    "tags": []
   },
   "source": [
    "#### Observations:\n",
    "\n",
    "- V2 and V3 are approximately uncorrelated for authentic transactions.\n",
    "- However, they have significant negative correlation for fraudulent transactions."
   ]
  },
  {
   "cell_type": "markdown",
   "metadata": {
    "papermill": {
     "duration": 4.855646,
     "end_time": "2021-07-20T04:13:59.566334",
     "exception": false,
     "start_time": "2021-07-20T04:13:54.710688",
     "status": "completed"
    },
    "tags": []
   },
   "source": [
    "## V3 vs V1"
   ]
  },
  {
   "cell_type": "code",
   "execution_count": null,
   "metadata": {
    "papermill": {
     "duration": 8.953566,
     "end_time": "2021-07-20T04:14:13.319458",
     "exception": false,
     "start_time": "2021-07-20T04:14:04.365892",
     "status": "completed"
    },
    "tags": [],
    "trusted": true
   },
   "outputs": [],
   "source": [
    "fig1 = px.scatter(data,\n",
    "                 x = 'V1',\n",
    "                 y = 'V3', \n",
    "                 facet_col = fraud_status,\n",
    "                 color = fraud_status,\n",
    "                 title = 'V3 vs V1',\n",
    "                 template = 'ggplot2'\n",
    "                )\n",
    "fig1.show()"
   ]
  },
  {
   "cell_type": "code",
   "execution_count": null,
   "metadata": {
    "papermill": {
     "duration": 5.016822,
     "end_time": "2021-07-20T04:14:23.370014",
     "exception": false,
     "start_time": "2021-07-20T04:14:18.353192",
     "status": "completed"
    },
    "tags": [],
    "trusted": true
   },
   "outputs": [],
   "source": [
    "print('Correlation coefficient between V1 and V3')\n",
    "print('\\n')\n",
    "print('For all transactions: {}'.format(data['V1'].corr(data['V3'])))\n",
    "print('For authentic transactions: {}'.format(data_authentic['V1'].corr(data_authentic['V3'])))\n",
    "print('For fraudulent transactions: {}'.format(data_fraud['V1'].corr(data_fraud['V3'])))"
   ]
  },
  {
   "cell_type": "markdown",
   "metadata": {
    "papermill": {
     "duration": 5.033456,
     "end_time": "2021-07-20T04:14:33.716482",
     "exception": false,
     "start_time": "2021-07-20T04:14:28.683026",
     "status": "completed"
    },
    "tags": []
   },
   "source": [
    "#### Observations:\n",
    "\n",
    "- V1 and V3 are approximately uncorrelated for authentic transactions.\n",
    "- However, they have significant positive correlation for fraudulent transactions."
   ]
  },
  {
   "cell_type": "markdown",
   "metadata": {
    "papermill": {
     "duration": 5.023513,
     "end_time": "2021-07-20T04:14:44.069592",
     "exception": false,
     "start_time": "2021-07-20T04:14:39.046079",
     "status": "completed"
    },
    "tags": []
   },
   "source": [
    "## Multicollinearity\n",
    "\n",
    "We check for multicollinearity among the features through the heat map which plots the correlation coefficient of each pair of features via color density."
   ]
  },
  {
   "cell_type": "code",
   "execution_count": null,
   "metadata": {
    "execution": {
     "iopub.execute_input": "2022-01-09T18:03:45.971004Z",
     "iopub.status.busy": "2022-01-09T18:03:45.970293Z",
     "iopub.status.idle": "2022-01-09T18:03:47.643085Z",
     "shell.execute_reply": "2022-01-09T18:03:47.642095Z",
     "shell.execute_reply.started": "2022-01-09T18:03:45.970964Z"
    },
    "papermill": {
     "duration": 6.784166,
     "end_time": "2021-07-20T04:14:56.45971",
     "exception": false,
     "start_time": "2021-07-20T04:14:49.675544",
     "status": "completed"
    },
    "tags": [],
    "trusted": true
   },
   "outputs": [],
   "source": [
    "# Heat map of the feature variables\n",
    "\n",
    "features = data.drop(['Class'], axis = 1)\n",
    "\n",
    "fig, ax = plt.subplots(figsize=(16, 12))\n",
    "sns.heatmap(features.corr(), center = 0, cmap = 'Blues')\n",
    "ax.set_title('Heat map of the feature variables')"
   ]
  },
  {
   "cell_type": "markdown",
   "metadata": {
    "papermill": {
     "duration": 5.344208,
     "end_time": "2021-07-20T04:15:06.773699",
     "exception": false,
     "start_time": "2021-07-20T04:15:01.429491",
     "status": "completed"
    },
    "tags": []
   },
   "source": [
    "#### Observations:\n",
    "\n",
    "- As expected, the PCA-engineered features are uncorrelated.\n",
    "- There exists non-zero correlations between time and some PCA-engineered features as well as between amount and some PCA-engineered features."
   ]
  },
  {
   "cell_type": "markdown",
   "metadata": {
    "papermill": {
     "duration": 5.526226,
     "end_time": "2021-07-20T04:15:17.32129",
     "exception": false,
     "start_time": "2021-07-20T04:15:11.795064",
     "status": "completed"
    },
    "tags": []
   },
   "source": [
    "If one considers only the authentic transactions, then the overall structure of the heat map remains the same, although moderate changes are visible."
   ]
  },
  {
   "cell_type": "code",
   "execution_count": null,
   "metadata": {
    "execution": {
     "iopub.execute_input": "2022-01-09T18:03:56.363954Z",
     "iopub.status.busy": "2022-01-09T18:03:56.363581Z",
     "iopub.status.idle": "2022-01-09T18:03:57.962578Z",
     "shell.execute_reply": "2022-01-09T18:03:57.961481Z",
     "shell.execute_reply.started": "2022-01-09T18:03:56.363899Z"
    },
    "papermill": {
     "duration": 6.791681,
     "end_time": "2021-07-20T04:15:29.09998",
     "exception": false,
     "start_time": "2021-07-20T04:15:22.308299",
     "status": "completed"
    },
    "tags": [],
    "trusted": true
   },
   "outputs": [],
   "source": [
    "# Heat map of the feature variables for fraudulent transactions\n",
    "\n",
    "features_authentic = data_authentic.drop(['Class'], axis = 1)\n",
    "\n",
    "fig, ax = plt.subplots(figsize=(16, 12))\n",
    "sns.heatmap(features_authentic.corr(), center = 0, cmap = 'Blues')\n",
    "ax.set_title('Heat map of the feature variables for authentic transactions')"
   ]
  },
  {
   "cell_type": "markdown",
   "metadata": {
    "papermill": {
     "duration": 5.040543,
     "end_time": "2021-07-20T04:15:39.189706",
     "exception": false,
     "start_time": "2021-07-20T04:15:34.149163",
     "status": "completed"
    },
    "tags": []
   },
   "source": [
    "However, the fraudulent transactions show a significantly different correlation structure among the features."
   ]
  },
  {
   "cell_type": "code",
   "execution_count": null,
   "metadata": {
    "execution": {
     "iopub.execute_input": "2022-01-09T18:04:05.184135Z",
     "iopub.status.busy": "2022-01-09T18:04:05.183772Z",
     "iopub.status.idle": "2022-01-09T18:04:06.160788Z",
     "shell.execute_reply": "2022-01-09T18:04:06.159822Z",
     "shell.execute_reply.started": "2022-01-09T18:04:05.184104Z"
    },
    "papermill": {
     "duration": 6.113332,
     "end_time": "2021-07-20T04:15:50.660044",
     "exception": false,
     "start_time": "2021-07-20T04:15:44.546712",
     "status": "completed"
    },
    "tags": [],
    "trusted": true
   },
   "outputs": [],
   "source": [
    "# Heat map of the feature variables for fraudulent transactions\n",
    "\n",
    "features_fraud = data_fraud.drop(['Class'], axis = 1)\n",
    "\n",
    "fig, ax = plt.subplots(figsize=(16, 12))\n",
    "sns.heatmap(features_fraud.corr(), center = 0, cmap = 'Blues')\n",
    "ax.set_title('Heat map of the feature variables for fraudulent transactions')"
   ]
  },
  {
   "cell_type": "markdown",
   "metadata": {
    "papermill": {
     "duration": 5.035268,
     "end_time": "2021-07-20T04:16:01.110058",
     "exception": false,
     "start_time": "2021-07-20T04:15:56.07479",
     "status": "completed"
    },
    "tags": []
   },
   "source": [
    "Note that the analysis involving the transformed variables **V1-V28** do not reflect any relationship among the original variables from which those are engineered. We have included EDA for these variables for the sake of completeness."
   ]
  }
 ],
 "metadata": {
  "kernelspec": {
   "display_name": "Python 3",
   "language": "python",
   "name": "python3"
  },
  "language_info": {
   "codemirror_mode": {
    "name": "ipython",
    "version": 3
   },
   "file_extension": ".py",
   "mimetype": "text/x-python",
   "name": "python",
   "nbconvert_exporter": "python",
   "pygments_lexer": "ipython3",
   "version": "3.6.4"
  }
 },
 "nbformat": 4,
 "nbformat_minor": 4
}
